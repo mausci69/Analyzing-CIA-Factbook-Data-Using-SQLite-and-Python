{
 "cells": [
  {
   "cell_type": "code",
   "execution_count": 6,
   "metadata": {
    "collapsed": false
   },
   "outputs": [
    {
     "data": {
      "text/html": [
       "<div>\n",
       "<table border=\"1\" class=\"dataframe\">\n",
       "  <thead>\n",
       "    <tr style=\"text-align: right;\">\n",
       "      <th></th>\n",
       "      <th>type</th>\n",
       "      <th>name</th>\n",
       "      <th>tbl_name</th>\n",
       "      <th>rootpage</th>\n",
       "      <th>sql</th>\n",
       "    </tr>\n",
       "  </thead>\n",
       "  <tbody>\n",
       "    <tr>\n",
       "      <th>0</th>\n",
       "      <td>table</td>\n",
       "      <td>sqlite_sequence</td>\n",
       "      <td>sqlite_sequence</td>\n",
       "      <td>3</td>\n",
       "      <td>CREATE TABLE sqlite_sequence(name,seq)</td>\n",
       "    </tr>\n",
       "    <tr>\n",
       "      <th>1</th>\n",
       "      <td>table</td>\n",
       "      <td>facts</td>\n",
       "      <td>facts</td>\n",
       "      <td>47</td>\n",
       "      <td>CREATE TABLE \"facts\" (\"id\" INTEGER PRIMARY KEY...</td>\n",
       "    </tr>\n",
       "  </tbody>\n",
       "</table>\n",
       "</div>"
      ],
      "text/plain": [
       "    type             name         tbl_name  rootpage  \\\n",
       "0  table  sqlite_sequence  sqlite_sequence         3   \n",
       "1  table            facts            facts        47   \n",
       "\n",
       "                                                 sql  \n",
       "0             CREATE TABLE sqlite_sequence(name,seq)  \n",
       "1  CREATE TABLE \"facts\" (\"id\" INTEGER PRIMARY KEY...  "
      ]
     },
     "execution_count": 6,
     "metadata": {},
     "output_type": "execute_result"
    }
   ],
   "source": [
    "# import pandas and sqlite3\n",
    "import pandas as pd\n",
    "import sqlite3\n",
    "# connect to facebook.db\n",
    "conn = sqlite3.connect(\"factbook.db\")\n",
    "# activate the cursor\n",
    "cursor = conn.cursor()\n",
    "# query looks at the database's tables\n",
    "query = \"select * from sqlite_master where type='table';\"\n",
    "# execute query and read it in pandas\n",
    "database_info = pd.read_sql_query(query, conn)\n",
    "database_info"
   ]
  },
  {
   "cell_type": "code",
   "execution_count": 7,
   "metadata": {
    "collapsed": false
   },
   "outputs": [
    {
     "data": {
      "text/html": [
       "<div>\n",
       "<table border=\"1\" class=\"dataframe\">\n",
       "  <thead>\n",
       "    <tr style=\"text-align: right;\">\n",
       "      <th></th>\n",
       "      <th>min(population)</th>\n",
       "      <th>max(population)</th>\n",
       "      <th>min(population_growth)</th>\n",
       "      <th>max(population_growth)</th>\n",
       "    </tr>\n",
       "  </thead>\n",
       "  <tbody>\n",
       "    <tr>\n",
       "      <th>0</th>\n",
       "      <td>0</td>\n",
       "      <td>7256490011</td>\n",
       "      <td>0.0</td>\n",
       "      <td>4.02</td>\n",
       "    </tr>\n",
       "  </tbody>\n",
       "</table>\n",
       "</div>"
      ],
      "text/plain": [
       "   min(population)  max(population)  min(population_growth)  \\\n",
       "0                0       7256490011                     0.0   \n",
       "\n",
       "   max(population_growth)  \n",
       "0                    4.02  "
      ]
     },
     "execution_count": 7,
     "metadata": {},
     "output_type": "execute_result"
    }
   ],
   "source": [
    "query = \"select min(population), max(population), min(population_growth), max(population_growth) from facts\"\n",
    "res = pd.read_sql_query(query, conn)\n",
    "res.head()"
   ]
  },
  {
   "cell_type": "code",
   "execution_count": 8,
   "metadata": {
    "collapsed": false
   },
   "outputs": [
    {
     "name": "stdout",
     "output_type": "stream",
     "text": [
      "         name\n",
      "0  Antarctica\n",
      "    name\n",
      "0  World\n"
     ]
    }
   ],
   "source": [
    "query_zeropop = \"select name from facts where population == 0\"\n",
    "query_7bil = \"select name from facts where population == 7256490011\"\n",
    "res1 = pd.read_sql_query(query_zeropop, conn)\n",
    "res2 = pd.read_sql_query(query_7bil, conn)\n",
    "print(res1)\n",
    "print(res2)"
   ]
  },
  {
   "cell_type": "code",
   "execution_count": 9,
   "metadata": {
    "collapsed": true
   },
   "outputs": [],
   "source": [
    "# It has no sense to include Anctartica with a population equal to 0 \n",
    "# and the whole world in our dataset!"
   ]
  },
  {
   "cell_type": "code",
   "execution_count": 21,
   "metadata": {
    "collapsed": false
   },
   "outputs": [
    {
     "data": {
      "image/png": "[encoded data removed]",
      "text/plain": [
       "<matplotlib.figure.Figure at 0x7f3de9269e80>"
      ]
     },
     "metadata": {},
     "output_type": "display_data"
    }
   ],
   "source": [
    "%matplotlib inline\n",
    "import matplotlib.pyplot as plt\n",
    "query_nolim = \"SELECT population, population_growth, birth_rate, death_rate FROM facts WHERE population != (SELECT MIN(population) from facts) AND population != (SELECT MAX(population) from facts)\"\n",
    "res = pd.read_sql_query(query_nolim, conn)\n",
    "# generate a 2 by 2 grid of histograms\n",
    "fig = plt.figure(figsize=(10,10))\n",
    "ax1 = fig.add_subplot(2,2,1)\n",
    "ax2 = fig.add_subplot(2,2,2)\n",
    "ax3 = fig.add_subplot(2,2,3)\n",
    "ax4 = fig.add_subplot(2,2,4)\n",
    "res[\"population\"].hist(ax=ax1)\n",
    "ax1.set_xlabel(\"population\")\n",
    "res[\"population_growth\"].hist(ax=ax2)\n",
    "ax2.set_xlabel(\"population_growth\")\n",
    "res[\"birth_rate\"].hist(ax=ax3)\n",
    "ax3.set_xlabel(\"birth_rate\")\n",
    "res[\"death_rate\"].hist(ax=ax4)\n",
    "ax4.set_xlabel(\"death_rate\")\n",
    "plt.show()"
   ]
  },
  {
   "cell_type": "code",
   "execution_count": 30,
   "metadata": {
    "collapsed": false
   },
   "outputs": [
    {
     "data": {
      "image/png": "[encoded data removed]",
      "text/plain": [
       "<matplotlib.figure.Figure at 0x7f3de92a8a58>"
      ]
     },
     "metadata": {},
     "output_type": "display_data"
    }
   ],
   "source": [
    "query_density = '''select name, cast(population as float)/cast(area as float) \"density\" from facts where population != (select min(population) from facts) and population != (select max(population) from facts) order by density desc'''\n",
    "res_density = pd.read_sql_query(query_density, conn)\n",
    "fig = plt.figure(figsize=(5,5))\n",
    "ax = fig.add_subplot(111)\n",
    "res_density[\"density\"].hist(bins=1000)\n",
    "ax.set_xlim(0, 2000)\n",
    "plt.show()"
   ]
  }
 ],
 "metadata": {
  "kernelspec": {
   "display_name": "Python 3",
   "language": "python",
   "name": "python3"
  },
  "language_info": {
   "codemirror_mode": {
    "name": "ipython",
    "version": 3
   },
   "file_extension": ".py",
   "mimetype": "text/x-python",
   "name": "python",
   "nbconvert_exporter": "python",
   "pygments_lexer": "ipython3",
   "version": "3.4.3"
  }
 },
 "nbformat": 4,
 "nbformat_minor": 2
}
